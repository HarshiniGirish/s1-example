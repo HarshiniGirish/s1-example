{
 "cells": [
  {
   "cell_type": "code",
   "execution_count": 1,
   "id": "8d7eb6e5-2515-4d58-b731-30e1ea02f037",
   "metadata": {},
   "outputs": [],
   "source": [
    "from maap.maap import MAAP\n",
    "maap = MAAP()\n",
    "\n",
    "import boto3\n",
    "import os"
   ]
  },
  {
   "cell_type": "code",
   "execution_count": 2,
   "id": "78d1dcfa-e06f-4d4c-9897-fc11ba5ccc79",
   "metadata": {},
   "outputs": [],
   "source": [
    "results = maap.searchGranule(cmr_host=\"cmr.earthdata.nasa.gov\",\n",
    "                                short_name='SENTINEL-1A_SLC',\n",
    "                                bounding_box='-124.8136026553671,32.445063449213436,-113.75989347462286,42.24498423828791',\n",
    "                                limit=500,\n",
    "                                temporal='2023-06-01T00:00:00Z,2030-06-12T23:59:59Z'\n",
    "                                )"
   ]
  },
  {
   "cell_type": "code",
   "execution_count": 9,
   "id": "0fb88737-77df-470c-958e-87c09bff5e0d",
   "metadata": {},
   "outputs": [
    {
     "data": {
      "text/plain": [
       "'s3://asf-ngap2w-p-s1-slc-7b420b89/S1A_IW_SLC__1SDV_20230601T015132_20230601T015159_048786_05DDF3_B44A.zip'"
      ]
     },
     "execution_count": 9,
     "metadata": {},
     "output_type": "execute_result"
    }
   ],
   "source": [
    "test = results[3].getDownloadUrl()\n",
    "test"
   ]
  },
  {
   "cell_type": "code",
   "execution_count": 8,
   "id": "d7742511-ab9a-4118-94c9-bc864213c26b",
   "metadata": {
    "tags": []
   },
   "outputs": [
    {
     "data": {
      "text/plain": [
       "'S1A_IW_SLC__1SDV_20230601T015132_20230601T015159_048786_05DDF3_B44A.zip'"
      ]
     },
     "execution_count": 8,
     "metadata": {},
     "output_type": "execute_result"
    }
   ],
   "source": [
    "os.path.basename(test)"
   ]
  },
  {
   "cell_type": "code",
   "execution_count": 11,
   "id": "e7dc86cf-4fe5-4b4f-8c80-81ed0ab0c249",
   "metadata": {
    "tags": []
   },
   "outputs": [
    {
     "data": {
      "text/plain": [
       "'asf-ngap2w-p-s1-slc-7b420b89'"
      ]
     },
     "execution_count": 11,
     "metadata": {},
     "output_type": "execute_result"
    }
   ],
   "source": [
    "os.path.dirname(test).replace('s3://','')"
   ]
  },
  {
   "cell_type": "code",
   "execution_count": 25,
   "id": "c80ff0e6-40dd-4686-a1a4-1ee15d5a3d56",
   "metadata": {
    "tags": []
   },
   "outputs": [],
   "source": [
    "split_path = os.path.split(test)\n",
    "bucket = split_path[0].replace('s3://','')\n",
    "prefix = '/'.join(split_path[1:])"
   ]
  },
  {
   "cell_type": "code",
   "execution_count": 26,
   "id": "ca5f532d-388b-4e8a-928d-b951609a3398",
   "metadata": {
    "tags": []
   },
   "outputs": [
    {
     "data": {
      "text/plain": [
       "'S1A_IW_SLC__1SDV_20230601T015132_20230601T015159_048786_05DDF3_B44A.zip'"
      ]
     },
     "execution_count": 26,
     "metadata": {},
     "output_type": "execute_result"
    }
   ],
   "source": [
    "prefix"
   ]
  },
  {
   "cell_type": "code",
   "execution_count": 27,
   "id": "d17dda61-22da-4337-88ec-08c3904ce115",
   "metadata": {
    "tags": []
   },
   "outputs": [
    {
     "data": {
      "text/plain": [
       "'asf-ngap2w-p-s1-slc-7b420b89'"
      ]
     },
     "execution_count": 27,
     "metadata": {},
     "output_type": "execute_result"
    }
   ],
   "source": [
    "bucket"
   ]
  },
  {
   "cell_type": "code",
   "execution_count": 4,
   "id": "6f7e0598-7d9f-40d4-8084-0f4f9846ea75",
   "metadata": {},
   "outputs": [],
   "source": [
    "def get_s3_creds(url):\n",
    "    return maap.aws.earthdata_s3_credentials(url)\n",
    "\n",
    "def get_s3_client(s3_cred_endpoint):\n",
    "    creds=get_s3_creds(s3_cred_endpoint)\n",
    "    boto3_session = boto3.Session(\n",
    "            aws_access_key_id=creds['accessKeyId'],\n",
    "            aws_secret_access_key=creds['secretAccessKey'],\n",
    "            aws_session_token=creds['sessionToken']\n",
    "    )\n",
    "    return boto3_session.client(\"s3\")\n",
    "\n",
    "def download_s3_file(s3, bucket, file_name):\n",
    "    os.makedirs(\"/home/jovyan/data/s1/\", exist_ok=True) # create directories, as necessary\n",
    "    download_path=f\"/projects/local_data/{file_name}\"\n",
    "    s3.download_file(bucket, f\"{file_name}\", download_path)\n",
    "    return download_path"
   ]
  },
  {
   "cell_type": "code",
   "execution_count": 5,
   "id": "70c165e6-9c18-4db4-89a7-7ef859e98800",
   "metadata": {},
   "outputs": [],
   "source": [
    "asf_s3 = \"https://sentinel1.asf.alaska.edu/s3credentials\"\n",
    "creds = get_s3_creds(asf_s3)\n"
   ]
  },
  {
   "cell_type": "code",
   "execution_count": 6,
   "id": "63416343-33fa-4606-b4e4-6ce7a8de489b",
   "metadata": {},
   "outputs": [
    {
     "data": {
      "text/plain": [
       "'/projects/local_data/S1A_IW_SLC__1SSV_20141103T015023_20141103T015054_003111_00391A_61DE.zip'"
      ]
     },
     "execution_count": 6,
     "metadata": {},
     "output_type": "execute_result"
    }
   ],
   "source": [
    "s3 = get_s3_client(asf_s3)\n",
    "bucket = 'asf-ngap2w-p-s1-slc-7b420b89'\n",
    "download_path = download_s3_file(s3, bucket, 'S1A_IW_SLC__1SSV_20141103T015023_20141103T015054_003111_00391A_61DE.zip')\n",
    "download_path"
   ]
  },
  {
   "cell_type": "code",
   "execution_count": 30,
   "id": "60d6314b-3cc3-4aab-bfb4-74958357137a",
   "metadata": {
    "tags": []
   },
   "outputs": [
    {
     "data": {
      "text/plain": [
       "5"
      ]
     },
     "execution_count": 30,
     "metadata": {},
     "output_type": "execute_result"
    }
   ],
   "source": [
    "import random\n",
    "random.randrange(0,19,1)"
   ]
  }
 ],
 "metadata": {
  "kernelspec": {
   "display_name": "Python 3 (ipykernel)",
   "language": "python",
   "name": "python3"
  },
  "language_info": {
   "codemirror_mode": {
    "name": "ipython",
    "version": 3
   },
   "file_extension": ".py",
   "mimetype": "text/x-python",
   "name": "python",
   "nbconvert_exporter": "python",
   "pygments_lexer": "ipython3",
   "version": "3.10.13"
  }
 },
 "nbformat": 4,
 "nbformat_minor": 5
}
